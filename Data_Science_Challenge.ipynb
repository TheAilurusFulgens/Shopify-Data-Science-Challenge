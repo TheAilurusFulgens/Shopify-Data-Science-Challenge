{
 "cells": [
  {
   "cell_type": "markdown",
   "id": "4ef75eb5",
   "metadata": {},
   "source": [
    "# Shopify Fall 2022 Data Science Challenge"
   ]
  },
  {
   "cell_type": "markdown",
   "id": "fd05da6a",
   "metadata": {},
   "source": [
    "# Question 1"
   ]
  },
  {
   "cell_type": "code",
   "execution_count": 1,
   "id": "0f8c56ec",
   "metadata": {},
   "outputs": [],
   "source": [
    "import pandas as pd\n",
    "import matplotlib.pyplot as plt"
   ]
  },
  {
   "cell_type": "code",
   "execution_count": 4,
   "id": "c5392074",
   "metadata": {},
   "outputs": [],
   "source": [
    "# Let's start off by reading in the dataset\n",
    "df = pd.read_csv('./2019 Winter Data Science Intern Challenge Data Set.csv')"
   ]
  },
  {
   "cell_type": "code",
   "execution_count": 5,
   "id": "489c6328",
   "metadata": {},
   "outputs": [
    {
     "data": {
      "text/html": [
       "<div>\n",
       "<style scoped>\n",
       "    .dataframe tbody tr th:only-of-type {\n",
       "        vertical-align: middle;\n",
       "    }\n",
       "\n",
       "    .dataframe tbody tr th {\n",
       "        vertical-align: top;\n",
       "    }\n",
       "\n",
       "    .dataframe thead th {\n",
       "        text-align: right;\n",
       "    }\n",
       "</style>\n",
       "<table border=\"1\" class=\"dataframe\">\n",
       "  <thead>\n",
       "    <tr style=\"text-align: right;\">\n",
       "      <th></th>\n",
       "      <th>order_id</th>\n",
       "      <th>shop_id</th>\n",
       "      <th>user_id</th>\n",
       "      <th>order_amount</th>\n",
       "      <th>total_items</th>\n",
       "      <th>payment_method</th>\n",
       "      <th>created_at</th>\n",
       "    </tr>\n",
       "  </thead>\n",
       "  <tbody>\n",
       "    <tr>\n",
       "      <th>0</th>\n",
       "      <td>1</td>\n",
       "      <td>53</td>\n",
       "      <td>746</td>\n",
       "      <td>224</td>\n",
       "      <td>2</td>\n",
       "      <td>cash</td>\n",
       "      <td>2017-03-13 12:36:56</td>\n",
       "    </tr>\n",
       "    <tr>\n",
       "      <th>1</th>\n",
       "      <td>2</td>\n",
       "      <td>92</td>\n",
       "      <td>925</td>\n",
       "      <td>90</td>\n",
       "      <td>1</td>\n",
       "      <td>cash</td>\n",
       "      <td>2017-03-03 17:38:52</td>\n",
       "    </tr>\n",
       "    <tr>\n",
       "      <th>2</th>\n",
       "      <td>3</td>\n",
       "      <td>44</td>\n",
       "      <td>861</td>\n",
       "      <td>144</td>\n",
       "      <td>1</td>\n",
       "      <td>cash</td>\n",
       "      <td>2017-03-14 4:23:56</td>\n",
       "    </tr>\n",
       "    <tr>\n",
       "      <th>3</th>\n",
       "      <td>4</td>\n",
       "      <td>18</td>\n",
       "      <td>935</td>\n",
       "      <td>156</td>\n",
       "      <td>1</td>\n",
       "      <td>credit_card</td>\n",
       "      <td>2017-03-26 12:43:37</td>\n",
       "    </tr>\n",
       "    <tr>\n",
       "      <th>4</th>\n",
       "      <td>5</td>\n",
       "      <td>18</td>\n",
       "      <td>883</td>\n",
       "      <td>156</td>\n",
       "      <td>1</td>\n",
       "      <td>credit_card</td>\n",
       "      <td>2017-03-01 4:35:11</td>\n",
       "    </tr>\n",
       "  </tbody>\n",
       "</table>\n",
       "</div>"
      ],
      "text/plain": [
       "   order_id  shop_id  user_id  order_amount  total_items payment_method  \\\n",
       "0         1       53      746           224            2           cash   \n",
       "1         2       92      925            90            1           cash   \n",
       "2         3       44      861           144            1           cash   \n",
       "3         4       18      935           156            1    credit_card   \n",
       "4         5       18      883           156            1    credit_card   \n",
       "\n",
       "            created_at  \n",
       "0  2017-03-13 12:36:56  \n",
       "1  2017-03-03 17:38:52  \n",
       "2   2017-03-14 4:23:56  \n",
       "3  2017-03-26 12:43:37  \n",
       "4   2017-03-01 4:35:11  "
      ]
     },
     "execution_count": 5,
     "metadata": {},
     "output_type": "execute_result"
    }
   ],
   "source": [
    "df.head()"
   ]
  },
  {
   "cell_type": "markdown",
   "id": "0269d19a",
   "metadata": {},
   "source": [
    "### a) Let's reproduce the given calculation of AOV = 3145.13"
   ]
  },
  {
   "cell_type": "code",
   "execution_count": 6,
   "id": "3be8cbf4",
   "metadata": {},
   "outputs": [
    {
     "data": {
      "text/html": [
       "<div>\n",
       "<style scoped>\n",
       "    .dataframe tbody tr th:only-of-type {\n",
       "        vertical-align: middle;\n",
       "    }\n",
       "\n",
       "    .dataframe tbody tr th {\n",
       "        vertical-align: top;\n",
       "    }\n",
       "\n",
       "    .dataframe thead th {\n",
       "        text-align: right;\n",
       "    }\n",
       "</style>\n",
       "<table border=\"1\" class=\"dataframe\">\n",
       "  <thead>\n",
       "    <tr style=\"text-align: right;\">\n",
       "      <th></th>\n",
       "      <th>order_id</th>\n",
       "      <th>shop_id</th>\n",
       "      <th>user_id</th>\n",
       "      <th>order_amount</th>\n",
       "      <th>total_items</th>\n",
       "    </tr>\n",
       "  </thead>\n",
       "  <tbody>\n",
       "    <tr>\n",
       "      <th>count</th>\n",
       "      <td>5000.000000</td>\n",
       "      <td>5000.000000</td>\n",
       "      <td>5000.000000</td>\n",
       "      <td>5000.000000</td>\n",
       "      <td>5000.00000</td>\n",
       "    </tr>\n",
       "    <tr>\n",
       "      <th>mean</th>\n",
       "      <td>2500.500000</td>\n",
       "      <td>50.078800</td>\n",
       "      <td>849.092400</td>\n",
       "      <td>3145.128000</td>\n",
       "      <td>8.78720</td>\n",
       "    </tr>\n",
       "    <tr>\n",
       "      <th>std</th>\n",
       "      <td>1443.520003</td>\n",
       "      <td>29.006118</td>\n",
       "      <td>87.798982</td>\n",
       "      <td>41282.539349</td>\n",
       "      <td>116.32032</td>\n",
       "    </tr>\n",
       "    <tr>\n",
       "      <th>min</th>\n",
       "      <td>1.000000</td>\n",
       "      <td>1.000000</td>\n",
       "      <td>607.000000</td>\n",
       "      <td>90.000000</td>\n",
       "      <td>1.00000</td>\n",
       "    </tr>\n",
       "    <tr>\n",
       "      <th>25%</th>\n",
       "      <td>1250.750000</td>\n",
       "      <td>24.000000</td>\n",
       "      <td>775.000000</td>\n",
       "      <td>163.000000</td>\n",
       "      <td>1.00000</td>\n",
       "    </tr>\n",
       "    <tr>\n",
       "      <th>50%</th>\n",
       "      <td>2500.500000</td>\n",
       "      <td>50.000000</td>\n",
       "      <td>849.000000</td>\n",
       "      <td>284.000000</td>\n",
       "      <td>2.00000</td>\n",
       "    </tr>\n",
       "    <tr>\n",
       "      <th>75%</th>\n",
       "      <td>3750.250000</td>\n",
       "      <td>75.000000</td>\n",
       "      <td>925.000000</td>\n",
       "      <td>390.000000</td>\n",
       "      <td>3.00000</td>\n",
       "    </tr>\n",
       "    <tr>\n",
       "      <th>max</th>\n",
       "      <td>5000.000000</td>\n",
       "      <td>100.000000</td>\n",
       "      <td>999.000000</td>\n",
       "      <td>704000.000000</td>\n",
       "      <td>2000.00000</td>\n",
       "    </tr>\n",
       "  </tbody>\n",
       "</table>\n",
       "</div>"
      ],
      "text/plain": [
       "          order_id      shop_id      user_id   order_amount  total_items\n",
       "count  5000.000000  5000.000000  5000.000000    5000.000000   5000.00000\n",
       "mean   2500.500000    50.078800   849.092400    3145.128000      8.78720\n",
       "std    1443.520003    29.006118    87.798982   41282.539349    116.32032\n",
       "min       1.000000     1.000000   607.000000      90.000000      1.00000\n",
       "25%    1250.750000    24.000000   775.000000     163.000000      1.00000\n",
       "50%    2500.500000    50.000000   849.000000     284.000000      2.00000\n",
       "75%    3750.250000    75.000000   925.000000     390.000000      3.00000\n",
       "max    5000.000000   100.000000   999.000000  704000.000000   2000.00000"
      ]
     },
     "execution_count": 6,
     "metadata": {},
     "output_type": "execute_result"
    }
   ],
   "source": [
    "df.describe()"
   ]
  },
  {
   "cell_type": "code",
   "execution_count": 7,
   "id": "7d310abf",
   "metadata": {},
   "outputs": [
    {
     "data": {
      "text/plain": [
       "3145.128"
      ]
     },
     "execution_count": 7,
     "metadata": {},
     "output_type": "execute_result"
    }
   ],
   "source": [
    "df[\"order_amount\"].mean()"
   ]
  },
  {
   "cell_type": "markdown",
   "id": "daa3d085",
   "metadata": {},
   "source": [
    "We can see that the mean of the order_amount column gives us the value $3145.13. Looking at the high standard deviation, we can assume the data has outliers. Let's plot the data just to be sure. "
   ]
  },
  {
   "cell_type": "code",
   "execution_count": 8,
   "id": "685aa58a",
   "metadata": {},
   "outputs": [
    {
     "data": {
      "image/png": "[encoded data removed]",
      "text/plain": [
       "<Figure size 432x288 with 1 Axes>"
      ]
     },
     "metadata": {
      "needs_background": "light"
     },
     "output_type": "display_data"
    }
   ],
   "source": [
    "df.plot.scatter(x=\"order_id\", y=\"order_amount\");"
   ]
  },
  {
   "cell_type": "markdown",
   "id": "69e155b9",
   "metadata": {},
   "source": [
    "Oh wow! I can count atleast 17 different occurences of $700,000+"
   ]
  },
  {
   "cell_type": "markdown",
   "id": "fe696412",
   "metadata": {},
   "source": [
    "### b) Let's come up with a better metric"
   ]
  },
  {
   "cell_type": "markdown",
   "id": "a8193a50",
   "metadata": {},
   "source": [
    "When data is skewed so much, median is normally a better metric than mean. Median is a really simple metric to calculate and would give us an adequate understanding of what we are looking for. "
   ]
  },
  {
   "cell_type": "code",
   "execution_count": 9,
   "id": "b4f9899b",
   "metadata": {},
   "outputs": [],
   "source": [
    "median = df[\"order_amount\"].median()"
   ]
  },
  {
   "cell_type": "code",
   "execution_count": 10,
   "id": "296311e6",
   "metadata": {},
   "outputs": [
    {
     "name": "stdout",
     "output_type": "stream",
     "text": [
      "284.0\n"
     ]
    }
   ],
   "source": [
    "print(median)"
   ]
  },
  {
   "cell_type": "markdown",
   "id": "77e11879",
   "metadata": {},
   "source": [
    "This looks a lot better than 3143.13!"
   ]
  },
  {
   "cell_type": "markdown",
   "id": "596b8dae",
   "metadata": {},
   "source": [
    "### c) The value I would provide"
   ]
  },
  {
   "cell_type": "code",
   "execution_count": 11,
   "id": "62da95d8",
   "metadata": {},
   "outputs": [
    {
     "name": "stdout",
     "output_type": "stream",
     "text": [
      "284.0\n"
     ]
    }
   ],
   "source": [
    "print(median)"
   ]
  },
  {
   "cell_type": "markdown",
   "id": "d05ec323",
   "metadata": {},
   "source": [
    "# Question 2"
   ]
  },
  {
   "cell_type": "markdown",
   "id": "859a35e1",
   "metadata": {},
   "source": [
    "### a) "
   ]
  },
  {
   "cell_type": "markdown",
   "id": "8976f899",
   "metadata": {},
   "source": [
    "Let's start off by taking a look at the Shippers table."
   ]
  },
  {
   "cell_type": "raw",
   "id": "9c8dd4ba",
   "metadata": {},
   "source": [
    "# SELECT * FROM [Shippers]"
   ]
  },
  {
   "cell_type": "markdown",
   "id": "075a025e",
   "metadata": {},
   "source": [
    "By running this SQL command, we see that there are only 3 shippers and shipper Speedy Express has a ShipperID of 1"
   ]
  },
  {
   "cell_type": "raw",
   "id": "fbf879b9",
   "metadata": {},
   "source": [
    "SELECT COUNT(ShipperID)\n",
    "FROM Orders\n",
    "WHERE ShipperID = 1;"
   ]
  },
  {
   "cell_type": "markdown",
   "id": "69243020",
   "metadata": {},
   "source": [
    "Since there are only 3 shippers and it is easy to look up a shipper's ID, we can easily query just using ShipperID. If there were more shippers, we would want join the orders and shipper tables and do a WHERE on the intended shipper's name."
   ]
  },
  {
   "cell_type": "markdown",
   "id": "0485db38",
   "metadata": {},
   "source": [
    "### b)"
   ]
  },
  {
   "cell_type": "raw",
   "id": "cd5bae39",
   "metadata": {},
   "source": [
    "SELECT LastName, COUNT(*) AS OrderAmount \n",
    "FROM Employees e\n",
    "JOIN Orders o \n",
    "\tON e.EmployeeID = o.EmployeeID\n",
    "GROUP BY e.LastName\n",
    "ORDER BY OrderAmount DESC\n",
    "LIMIT 1"
   ]
  },
  {
   "cell_type": "markdown",
   "id": "3d8ff613",
   "metadata": {},
   "source": [
    "Result: Peacock with 40 orders"
   ]
  },
  {
   "cell_type": "markdown",
   "id": "dfa1c369",
   "metadata": {},
   "source": [
    "### c)"
   ]
  },
  {
   "cell_type": "raw",
   "id": "ae4c6ff8",
   "metadata": {},
   "source": [
    "SELECT ProductName\n",
    "FROM Orders o\n",
    "JOIN OrderDetails ord ON o.orderID = ord.orderID\n",
    "JOIN Customers c ON o.customerID = c.customerID\n",
    "JOIN Products p ON p.productID = ord.productID\n",
    "WHERE country = \"Germany\"\n",
    "GROUP by ProductName\n",
    "ORDER BY Sum(Quantity) DESC\n",
    "LIMIT 1;"
   ]
  },
  {
   "cell_type": "markdown",
   "id": "075665c9",
   "metadata": {},
   "source": [
    "Result: Boston Crab Meat"
   ]
  },
  {
   "cell_type": "code",
   "execution_count": null,
   "id": "cb1ab734",
   "metadata": {},
   "outputs": [],
   "source": []
  }
 ],
 "metadata": {
  "kernelspec": {
   "display_name": "Python 3 (ipykernel)",
   "language": "python",
   "name": "python3"
  },
  "language_info": {
   "codemirror_mode": {
    "name": "ipython",
    "version": 3
   },
   "file_extension": ".py",
   "mimetype": "text/x-python",
   "name": "python",
   "nbconvert_exporter": "python",
   "pygments_lexer": "ipython3",
   "version": "3.10.1"
  }
 },
 "nbformat": 4,
 "nbformat_minor": 5
}
